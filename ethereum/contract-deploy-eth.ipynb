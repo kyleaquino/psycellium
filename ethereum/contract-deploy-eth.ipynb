{
 "cells": [
  {
   "cell_type": "code",
   "execution_count": 1,
   "metadata": {},
   "outputs": [],
   "source": [
    "import os\n",
    "from web3 import Web3\n",
    "from solc import compile_files, compile_source\n",
    "from web3.contract import ConciseContract"
   ]
  },
  {
   "cell_type": "code",
   "execution_count": 2,
   "metadata": {},
   "outputs": [],
   "source": [
    "oz_ownable = './node_modules/openzeppelin-solidity/contracts/ownership/Ownable.sol'\n",
    "oz_safemath = './node_modules/openzeppelin-solidity/contracts/math/SafeMath.sol'"
   ]
  },
  {
   "cell_type": "code",
   "execution_count": 3,
   "metadata": {},
   "outputs": [],
   "source": [
    "web3 = Web3(Web3.HTTPProvider(\"http://127.0.0.1:8545\", request_kwargs={'timeout': 60}))"
   ]
  },
  {
   "cell_type": "code",
   "execution_count": 4,
   "metadata": {},
   "outputs": [
    {
     "data": {
      "text/plain": [
       "True"
      ]
     },
     "execution_count": 4,
     "metadata": {},
     "output_type": "execute_result"
    }
   ],
   "source": [
    "web3.isConnected()"
   ]
  },
  {
   "cell_type": "code",
   "execution_count": 7,
   "metadata": {},
   "outputs": [
    {
     "ename": "SolcError",
     "evalue": "An error occurred during execution\n        > command: `solc --combined-json abi,asm,ast,bin,bin-runtime,clone-bin,devdoc,interface,opcodes,userdoc contracts/Psycellium.sol`\n        > return code: `1`\n        > stderr:\n\n        > stdout:\n        contracts/Psycellium.sol:131:3: Warning: Defining empty structs is deprecated.\n  struct MinorStocks{\n  ^ (Relevant source part starts here and spans across multiple lines).\ncontracts/Psycellium.sol:135:3: Warning: Defining empty structs is deprecated.\n  struct MajorStocks {\n  ^ (Relevant source part starts here and spans across multiple lines).\ncontracts/Psycellium.sol:178:43: Error: Identifier already declared.\n  function createLand(string landAddress, string landAddress, string landLocation, string landDescription, bool isOwned)\n                                          ^----------------^\ncontracts/Psycellium.sol:178:23: The previous declaration is here:\n  function createLand(string landAddress, string landAddress, string landLocation, string landDescription, bool isOwned)\n                      ^----------------^\n\ncontracts/Psycellium.sol:144:13: Error: Undeclared identifier.\n    require(members[msg.sender].role == roles.Treasurer);\n            ^-----^\ncontracts/Psycellium.sol:144:41: Error: Undeclared identifier.\n    require(members[msg.sender].role == roles.Treasurer);\n                                        ^---^\ncontracts/Psycellium.sol:152:13: Error: Undeclared identifier.\n    require(members[msg.sender].role == roles.Treasurer);\n            ^-----^\ncontracts/Psycellium.sol:152:41: Error: Undeclared identifier.\n    require(members[msg.sender].role == roles.Treasurer);\n                                        ^---^\ncontracts/Psycellium.sol:153:19: Error: Undeclared identifier.\n    require(loans[borrower].isApproved, \"Already Rejected\");\n                  ^------^\ncontracts/Psycellium.sol:154:11: Error: Undeclared identifier.\n    loans[borrower].isApproved =false;\n          ^------^\ncontracts/Psycellium.sol:180:5: Error: Undeclared identifier.\n    landID++;\n    ^----^\ncontracts/Psycellium.sol:181:15: Error: Undeclared identifier.\n    uint id = landID;\n              ^----^\ncontracts/Psycellium.sol:182:84: Error: Undeclared identifier.\n    Lands[id] = LandTitle(landAddress, landAddress, landLocation, landDescription, issueddate, false);\n                                                                                   ^--------^\ncontracts/Psycellium.sol:188:12: Error: Undeclared identifier. Did you mean \"landid\", \"Lands\" or \"loans\"?\n    return lands[landid];\n           ^---^\ncontracts/Psycellium.sol:195:30: Error: Undeclared identifier.\n    Lands[_landid].isOwned = True;\n                             ^--^\ncontracts/Psycellium.sol:207:12: Error: Undeclared identifier. Did you mean \"Lands\" or \"loans\"?\n    return lands[owner_land[_member]];\n           ^---^\ncontracts/Psycellium.sol:221:5: Error: Undeclared identifier.\n    bankID++;\n    ^----^\ncontracts/Psycellium.sol:222:15: Error: Undeclared identifier.\n    uint id = bankID;\n              ^----^\ncontracts/Psycellium.sol:224:17: Error: Undeclared identifier.\n    bankLedgers[bankID] = BankLedger(msg.sender, _desc, _date, _bal);\n                ^----^",
     "output_type": "error",
     "traceback": [
      "\u001b[0;31m---------------------------------------------------------------------------\u001b[0m",
      "\u001b[0;31mSolcError\u001b[0m                                 Traceback (most recent call last)",
      "\u001b[0;32m<ipython-input-7-b08bc004eb31>\u001b[0m in \u001b[0;36m<module>\u001b[0;34m()\u001b[0m\n\u001b[0;32m----> 1\u001b[0;31m \u001b[0mcompiled_sol\u001b[0m \u001b[0;34m=\u001b[0m \u001b[0mcompile_files\u001b[0m\u001b[0;34m(\u001b[0m\u001b[0;34m[\u001b[0m\u001b[0;34m'contracts/Psycellium.sol'\u001b[0m\u001b[0;34m]\u001b[0m\u001b[0;34m)\u001b[0m\u001b[0;34m\u001b[0m\u001b[0m\n\u001b[0m\u001b[1;32m      2\u001b[0m \u001b[0mcompiled_sol\u001b[0m\u001b[0;34m\u001b[0m\u001b[0m\n",
      "\u001b[0;32m~/anaconda3/lib/python3.6/site-packages/solc/main.py\u001b[0m in \u001b[0;36mcompile_files\u001b[0;34m(source_files, allow_empty, output_values, **kwargs)\u001b[0m\n\u001b[1;32m    133\u001b[0m     \u001b[0mcompiler_kwargs\u001b[0m \u001b[0;34m=\u001b[0m \u001b[0mdict\u001b[0m\u001b[0;34m(\u001b[0m\u001b[0msource_files\u001b[0m\u001b[0;34m=\u001b[0m\u001b[0msource_files\u001b[0m\u001b[0;34m,\u001b[0m \u001b[0mcombined_json\u001b[0m\u001b[0;34m=\u001b[0m\u001b[0mcombined_json\u001b[0m\u001b[0;34m,\u001b[0m \u001b[0;34m**\u001b[0m\u001b[0mkwargs\u001b[0m\u001b[0;34m)\u001b[0m\u001b[0;34m\u001b[0m\u001b[0m\n\u001b[1;32m    134\u001b[0m \u001b[0;34m\u001b[0m\u001b[0m\n\u001b[0;32m--> 135\u001b[0;31m     \u001b[0mstdoutdata\u001b[0m\u001b[0;34m,\u001b[0m \u001b[0mstderrdata\u001b[0m\u001b[0;34m,\u001b[0m \u001b[0mcommand\u001b[0m\u001b[0;34m,\u001b[0m \u001b[0mproc\u001b[0m \u001b[0;34m=\u001b[0m \u001b[0msolc_wrapper\u001b[0m\u001b[0;34m(\u001b[0m\u001b[0;34m**\u001b[0m\u001b[0mcompiler_kwargs\u001b[0m\u001b[0;34m)\u001b[0m\u001b[0;34m\u001b[0m\u001b[0m\n\u001b[0m\u001b[1;32m    136\u001b[0m \u001b[0;34m\u001b[0m\u001b[0m\n\u001b[1;32m    137\u001b[0m     \u001b[0mcontracts\u001b[0m \u001b[0;34m=\u001b[0m \u001b[0m_parse_compiler_output\u001b[0m\u001b[0;34m(\u001b[0m\u001b[0mstdoutdata\u001b[0m\u001b[0;34m)\u001b[0m\u001b[0;34m\u001b[0m\u001b[0m\n",
      "\u001b[0;32m~/anaconda3/lib/python3.6/site-packages/solc/utils/string.py\u001b[0m in \u001b[0;36minner\u001b[0;34m(*args, **kwargs)\u001b[0m\n\u001b[1;32m     83\u001b[0m     \u001b[0;34m@\u001b[0m\u001b[0mfunctools\u001b[0m\u001b[0;34m.\u001b[0m\u001b[0mwraps\u001b[0m\u001b[0;34m(\u001b[0m\u001b[0mfn\u001b[0m\u001b[0;34m)\u001b[0m\u001b[0;34m\u001b[0m\u001b[0m\n\u001b[1;32m     84\u001b[0m     \u001b[0;32mdef\u001b[0m \u001b[0minner\u001b[0m\u001b[0;34m(\u001b[0m\u001b[0;34m*\u001b[0m\u001b[0margs\u001b[0m\u001b[0;34m,\u001b[0m \u001b[0;34m**\u001b[0m\u001b[0mkwargs\u001b[0m\u001b[0;34m)\u001b[0m\u001b[0;34m:\u001b[0m\u001b[0;34m\u001b[0m\u001b[0m\n\u001b[0;32m---> 85\u001b[0;31m         \u001b[0;32mreturn\u001b[0m \u001b[0mforce_obj_to_text\u001b[0m\u001b[0;34m(\u001b[0m\u001b[0mfn\u001b[0m\u001b[0;34m(\u001b[0m\u001b[0;34m*\u001b[0m\u001b[0margs\u001b[0m\u001b[0;34m,\u001b[0m \u001b[0;34m**\u001b[0m\u001b[0mkwargs\u001b[0m\u001b[0;34m)\u001b[0m\u001b[0;34m)\u001b[0m\u001b[0;34m\u001b[0m\u001b[0m\n\u001b[0m\u001b[1;32m     86\u001b[0m     \u001b[0;32mreturn\u001b[0m \u001b[0minner\u001b[0m\u001b[0;34m\u001b[0m\u001b[0m\n",
      "\u001b[0;32m~/anaconda3/lib/python3.6/site-packages/solc/wrapper.py\u001b[0m in \u001b[0;36msolc_wrapper\u001b[0;34m(solc_binary, stdin, help, version, add_std, combined_json, optimize, optimize_runs, libraries, output_dir, gas, assemble, link, source_files, import_remappings, ast, ast_json, asm, asm_json, opcodes, bin, bin_runtime, clone_bin, abi, interface, hashes, userdoc, devdoc, formal, allow_paths, standard_json, success_return_code, evm_version)\u001b[0m\n\u001b[1;32m    167\u001b[0m             \u001b[0mstdin_data\u001b[0m\u001b[0;34m=\u001b[0m\u001b[0mstdin\u001b[0m\u001b[0;34m,\u001b[0m\u001b[0;34m\u001b[0m\u001b[0m\n\u001b[1;32m    168\u001b[0m             \u001b[0mstdout_data\u001b[0m\u001b[0;34m=\u001b[0m\u001b[0mstdoutdata\u001b[0m\u001b[0;34m,\u001b[0m\u001b[0;34m\u001b[0m\u001b[0m\n\u001b[0;32m--> 169\u001b[0;31m             \u001b[0mstderr_data\u001b[0m\u001b[0;34m=\u001b[0m\u001b[0mstderrdata\u001b[0m\u001b[0;34m,\u001b[0m\u001b[0;34m\u001b[0m\u001b[0m\n\u001b[0m\u001b[1;32m    170\u001b[0m         )\n\u001b[1;32m    171\u001b[0m \u001b[0;34m\u001b[0m\u001b[0m\n",
      "\u001b[0;31mSolcError\u001b[0m: An error occurred during execution\n        > command: `solc --combined-json abi,asm,ast,bin,bin-runtime,clone-bin,devdoc,interface,opcodes,userdoc contracts/Psycellium.sol`\n        > return code: `1`\n        > stderr:\n\n        > stdout:\n        contracts/Psycellium.sol:131:3: Warning: Defining empty structs is deprecated.\n  struct MinorStocks{\n  ^ (Relevant source part starts here and spans across multiple lines).\ncontracts/Psycellium.sol:135:3: Warning: Defining empty structs is deprecated.\n  struct MajorStocks {\n  ^ (Relevant source part starts here and spans across multiple lines).\ncontracts/Psycellium.sol:178:43: Error: Identifier already declared.\n  function createLand(string landAddress, string landAddress, string landLocation, string landDescription, bool isOwned)\n                                          ^----------------^\ncontracts/Psycellium.sol:178:23: The previous declaration is here:\n  function createLand(string landAddress, string landAddress, string landLocation, string landDescription, bool isOwned)\n                      ^----------------^\n\ncontracts/Psycellium.sol:144:13: Error: Undeclared identifier.\n    require(members[msg.sender].role == roles.Treasurer);\n            ^-----^\ncontracts/Psycellium.sol:144:41: Error: Undeclared identifier.\n    require(members[msg.sender].role == roles.Treasurer);\n                                        ^---^\ncontracts/Psycellium.sol:152:13: Error: Undeclared identifier.\n    require(members[msg.sender].role == roles.Treasurer);\n            ^-----^\ncontracts/Psycellium.sol:152:41: Error: Undeclared identifier.\n    require(members[msg.sender].role == roles.Treasurer);\n                                        ^---^\ncontracts/Psycellium.sol:153:19: Error: Undeclared identifier.\n    require(loans[borrower].isApproved, \"Already Rejected\");\n                  ^------^\ncontracts/Psycellium.sol:154:11: Error: Undeclared identifier.\n    loans[borrower].isApproved =false;\n          ^------^\ncontracts/Psycellium.sol:180:5: Error: Undeclared identifier.\n    landID++;\n    ^----^\ncontracts/Psycellium.sol:181:15: Error: Undeclared identifier.\n    uint id = landID;\n              ^----^\ncontracts/Psycellium.sol:182:84: Error: Undeclared identifier.\n    Lands[id] = LandTitle(landAddress, landAddress, landLocation, landDescription, issueddate, false);\n                                                                                   ^--------^\ncontracts/Psycellium.sol:188:12: Error: Undeclared identifier. Did you mean \"landid\", \"Lands\" or \"loans\"?\n    return lands[landid];\n           ^---^\ncontracts/Psycellium.sol:195:30: Error: Undeclared identifier.\n    Lands[_landid].isOwned = True;\n                             ^--^\ncontracts/Psycellium.sol:207:12: Error: Undeclared identifier. Did you mean \"Lands\" or \"loans\"?\n    return lands[owner_land[_member]];\n           ^---^\ncontracts/Psycellium.sol:221:5: Error: Undeclared identifier.\n    bankID++;\n    ^----^\ncontracts/Psycellium.sol:222:15: Error: Undeclared identifier.\n    uint id = bankID;\n              ^----^\ncontracts/Psycellium.sol:224:17: Error: Undeclared identifier.\n    bankLedgers[bankID] = BankLedger(msg.sender, _desc, _date, _bal);\n                ^----^"
     ]
    }
   ],
   "source": [
    "compiled_sol = compile_files(['contracts/Psycellium.sol'])\n",
    "compiled_sol"
   ]
  },
  {
   "cell_type": "code",
   "execution_count": 22,
   "metadata": {},
   "outputs": [],
   "source": [
    "contract_interface = compiled_sol['./test-contracts/Greeter.sol:Greeter']"
   ]
  },
  {
   "cell_type": "code",
   "execution_count": 26,
   "metadata": {},
   "outputs": [],
   "source": [
    "web3.eth.defaultAccount = web3.eth.accounts[0]"
   ]
  },
  {
   "cell_type": "code",
   "execution_count": 27,
   "metadata": {},
   "outputs": [],
   "source": [
    "Greeter = web3.eth.contract(abi=contract_interface['abi'], bytecode=contract_interface['bin'])\n",
    "Greeter"
   ]
  },
  {
   "cell_type": "code",
   "execution_count": 28,
   "metadata": {},
   "outputs": [],
   "source": [
    "tx_hash = Greeter.constructor().transact()\n",
    "tx_hash"
   ]
  },
  {
   "cell_type": "code",
   "execution_count": 30,
   "metadata": {},
   "outputs": [],
   "source": [
    "tx_receipt = web3.eth.waitForTransactionReceipt(tx_hash)\n",
    "tx_reciept"
   ]
  },
  {
   "cell_type": "code",
   "execution_count": 32,
   "metadata": {},
   "outputs": [],
   "source": [
    "greeter = web3.eth.contract(\n",
    "    address=tx_receipt.contractAddress,\n",
    "    abi=contract_interface['abi'],\n",
    ")"
   ]
  },
  {
   "cell_type": "code",
   "execution_count": 33,
   "metadata": {},
   "outputs": [
    {
     "name": "stdout",
     "output_type": "stream",
     "text": [
      "Default contract greeting: Hello\n"
     ]
    }
   ],
   "source": [
    "print('Default contract greeting: {}'.format(\n",
    "    greeter.functions.greet().call()\n",
    "))"
   ]
  },
  {
   "cell_type": "code",
   "execution_count": 34,
   "metadata": {},
   "outputs": [
    {
     "name": "stdout",
     "output_type": "stream",
     "text": [
      "Setting the greeting to Nihao...\n"
     ]
    }
   ],
   "source": [
    "print('Setting the greeting to Nihao...')\n",
    "tx_hash = greeter.functions.setGreeting('Nihao').transact()"
   ]
  },
  {
   "cell_type": "code",
   "execution_count": 35,
   "metadata": {},
   "outputs": [
    {
     "data": {
      "text/plain": [
       "AttributeDict({'transactionHash': HexBytes('0x898dbe9c203c67697f21d3cf75d99f6392901c5469cb3462c7cc32b36f902008'),\n",
       " 'transactionIndex': 0,\n",
       " 'blockHash': HexBytes('0xa6eb4d83198a84a8ee033d6d626c3537d1cbb63261fc74c4a3e98054f524f164'),\n",
       " 'blockNumber': 2,\n",
       " 'gasUsed': 33068,\n",
       " 'cumulativeGasUsed': 33068,\n",
       " 'contractAddress': None,\n",
       " 'logs': [],\n",
       " 'status': 1,\n",
       " 'logsBloom': HexBytes('0x00000000000000000000000000000000000000000000000000000000000000000000000000000000000000000000000000000000000000000000000000000000000000000000000000000000000000000000000000000000000000000000000000000000000000000000000000000000000000000000000000000000000000000000000000000000000000000000000000000000000000000000000000000000000000000000000000000000000000000000000000000000000000000000000000000000000000000000000000000000000000000000000000000000000000000000000000000000000000000000000000000000000000000000000000000000')})"
      ]
     },
     "execution_count": 35,
     "metadata": {},
     "output_type": "execute_result"
    }
   ],
   "source": [
    "web3.eth.waitForTransactionReceipt(tx_hash)"
   ]
  },
  {
   "cell_type": "code",
   "execution_count": 36,
   "metadata": {},
   "outputs": [
    {
     "name": "stdout",
     "output_type": "stream",
     "text": [
      "Updated contract greeting: Nihao\n"
     ]
    }
   ],
   "source": [
    "print('Updated contract greeting: {}'.format(\n",
    "    greeter.functions.greet().call()\n",
    "))"
   ]
  },
  {
   "cell_type": "code",
   "execution_count": 37,
   "metadata": {},
   "outputs": [],
   "source": [
    "reader = ConciseContract(greeter)\n",
    "assert reader.greet() == \"Nihao\""
   ]
  },
  {
   "cell_type": "code",
   "execution_count": null,
   "metadata": {},
   "outputs": [],
   "source": []
  }
 ],
 "metadata": {
  "kernelspec": {
   "display_name": "Python 3",
   "language": "python",
   "name": "python3"
  },
  "language_info": {
   "codemirror_mode": {
    "name": "ipython",
    "version": 3
   },
   "file_extension": ".py",
   "mimetype": "text/x-python",
   "name": "python",
   "nbconvert_exporter": "python",
   "pygments_lexer": "ipython3",
   "version": "3.6.2"
  }
 },
 "nbformat": 4,
 "nbformat_minor": 2
}
