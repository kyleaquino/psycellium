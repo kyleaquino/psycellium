{
 "cells": [
  {
   "cell_type": "code",
   "execution_count": 18,
   "metadata": {},
   "outputs": [],
   "source": [
    "import web3 \n",
    "import json\n",
    "from eth_account import Account\n",
    "from web3 import Web3"
   ]
  },
  {
   "cell_type": "markdown",
   "metadata": {},
   "source": [
    "# Initialize Connection "
   ]
  },
  {
   "cell_type": "code",
   "execution_count": 19,
   "metadata": {},
   "outputs": [],
   "source": [
    "def init():\n",
    "    return Web3(Web3.HTTPProvider('https://ropsten.infura.io/v3/6c25a8476cd941aab5961e19adde9502'))"
   ]
  },
  {
   "cell_type": "markdown",
   "metadata": {},
   "source": [
    "# Create New Account"
   ]
  },
  {
   "cell_type": "code",
   "execution_count": 20,
   "metadata": {},
   "outputs": [],
   "source": [
    "def createNewAccount(password):\n",
    "    return Account.create(password)"
   ]
  },
  {
   "cell_type": "markdown",
   "metadata": {},
   "source": [
    "# Encrypt Account "
   ]
  },
  {
   "cell_type": "code",
   "execution_count": 21,
   "metadata": {},
   "outputs": [],
   "source": [
    "def encryptAccount(account, password):\n",
    "    return Account.encrypt(account.privateKey, password)"
   ]
  },
  {
   "cell_type": "markdown",
   "metadata": {},
   "source": [
    "# Decrypt Account"
   ]
  },
  {
   "cell_type": "code",
   "execution_count": 22,
   "metadata": {},
   "outputs": [],
   "source": [
    "def decryptAccount(encrypted, password):\n",
    "    return Account.decrypt(encrypted,password)"
   ]
  },
  {
   "cell_type": "markdown",
   "metadata": {},
   "source": [
    "# Convert to Address "
   ]
  },
  {
   "cell_type": "code",
   "execution_count": 26,
   "metadata": {},
   "outputs": [],
   "source": [
    "def hexToAddress(decrypted):\n",
    "    return Account.privateKeyToAccount(decrypted)"
   ]
  },
  {
   "cell_type": "markdown",
   "metadata": {},
   "source": [
    "# Eth Transfer"
   ]
  },
  {
   "cell_type": "code",
   "execution_count": 23,
   "metadata": {},
   "outputs": [],
   "source": [
    "def transferEth(account):\n",
    "    acct = Account.privateKeyToAccount('b8d49e37992def5eaa9e701019f20bc844682a9cebc4a61845a97ad4249d4bdc')\n",
    "    nonce = w3.eth.getTransactionCount(acct.address)\n",
    "    transaction = {\n",
    "        'to' : account,\n",
    "        'value': 10000000000000000,\n",
    "        'gas': 21000,\n",
    "        'gasPrice': w3.eth.gasPrice,\n",
    "        'nonce': nonce,\n",
    "        'chainId': 3\n",
    "    }\n",
    "    key = acct.privateKey\n",
    "    signed = w3.eth.account.signTransaction(transaction, key) \n",
    "    txHash = w3.eth.sendRawTransaction(signed.rawTransaction)\n",
    "    receipt = w3.eth.waitForTransactionReceipt(txHash)\n",
    "    print(receipt)\n",
    "    return txHash.hex() "
   ]
  },
  {
   "cell_type": "code",
   "execution_count": 16,
   "metadata": {},
   "outputs": [
    {
     "name": "stdout",
     "output_type": "stream",
     "text": [
      "AttributeDict({'blockHash': HexBytes('0x1b0f2a5dc8e2eeb9aed191f7060e85a9831d4d24c5c327e852904e09693fb96c'), 'blockNumber': 4825108, 'contractAddress': None, 'cumulativeGasUsed': 42000, 'from': '0x4ad5dc5c6b8aa4396f39bd7692ad000c6ab0de78', 'gasUsed': 21000, 'logs': [], 'logsBloom': HexBytes('0x00000000000000000000000000000000000000000000000000000000000000000000000000000000000000000000000000000000000000000000000000000000000000000000000000000000000000000000000000000000000000000000000000000000000000000000000000000000000000000000000000000000000000000000000000000000000000000000000000000000000000000000000000000000000000000000000000000000000000000000000000000000000000000000000000000000000000000000000000000000000000000000000000000000000000000000000000000000000000000000000000000000000000000000000000000000'), 'status': 1, 'to': '0x5ff08102dec91de8431c49595a70352eefdfc201', 'transactionHash': HexBytes('0xa0dfbcbe0393bac56c64c04b7b6b0ca6d9c70b700689f47802007ca423498731'), 'transactionIndex': 1})\n"
     ]
    },
    {
     "data": {
      "text/plain": [
       "'0xa0dfbcbe0393bac56c64c04b7b6b0ca6d9c70b700689f47802007ca423498731'"
      ]
     },
     "execution_count": 16,
     "metadata": {},
     "output_type": "execute_result"
    }
   ],
   "source": [
    "transferEth(newAccount.address)"
   ]
  },
  {
   "cell_type": "markdown",
   "metadata": {},
   "source": [
    "# Set Cooperative Members"
   ]
  },
  {
   "cell_type": "code",
   "execution_count": 5,
   "metadata": {},
   "outputs": [],
   "source": [
    "def setMember(members,coopid):\n",
    "    w3 = init()\n",
    "    w3.eth.defaultAccount = w3.eth.accounts[0]\n",
    "    interface = web3.compile(ETH_DIR,contract_file,contract_name)\n",
    "    contract = web3.contract(w3, interface['abi'], interface['bin'])\n",
    "    tx_hash, tx_receipt = web3.tx_generate(contract, w3)\n",
    "    psycellium = web3.contract_object(w3, tx_receipt.contractAddress,interface['abi'])\n",
    "\n",
    "    psycellium.functions.setMember(members,coopid).transact()\n",
    "\n",
    "    print(w3.eth.waitForTransactionReceipt(tx_hash))"
   ]
  },
  {
   "cell_type": "markdown",
   "metadata": {},
   "source": [
    "# Set Cooperative Member Name"
   ]
  },
  {
   "cell_type": "code",
   "execution_count": 8,
   "metadata": {},
   "outputs": [],
   "source": [
    "def setMemberName(name):\n",
    "    w3 = init()\n",
    "    w3.eth.defaultAccount = w3.eth.accounts[0]\n",
    "    interface = web3.compile(ETH_DIR,contract_file,contract_name)\n",
    "    contract = web3.contract(w3, interface['abi'], interface['bin'])\n",
    "    tx_hash, tx_receipt = web3.tx_generate(contract, w3)\n",
    "    psycellium = web3.contract_object(w3, tx_receipt.contractAddress,interface['abi'])\n",
    "\n",
    "    psycellium.functions.setMemberName(name).transact()\n",
    "\n",
    "    print(w3.eth.waitForTransactionReceipt(tx_hash))"
   ]
  },
  {
   "cell_type": "markdown",
   "metadata": {},
   "source": [
    "# Create Cooperative"
   ]
  },
  {
   "cell_type": "code",
   "execution_count": 13,
   "metadata": {},
   "outputs": [
    {
     "name": "stdout",
     "output_type": "stream",
     "text": [
      "0x5ff08102deC91DE8431c49595A70352eEfDFc201\n"
     ]
    }
   ],
   "source": [
    "def createCoop(coopaddress, director, coopdesc, issuedate):\n",
    "    w3 = init()\n",
    "    w3.eth.defaultAccount = w3.eth.accounts[0]\n",
    "    interface = web3.compile(ETH_DIR,contract_file,contract_name)\n",
    "    contract = web3.contract(w3, interface['abi'], interface['bin'])\n",
    "    tx_hash, tx_receipt = web3.tx_generate(contract, w3)\n",
    "    psycellium = web3.contract_object(w3, tx_receipt.contractAddress,interface['abi'])\n",
    "\n",
    "    psycellium.functions.createCoop((coopaddress, director, coopdesc, issuedate).transact()\n",
    "\n",
    "    print(w3.eth.waitForTransactionReceipt(tx_hash))"
   ]
  },
  {
   "cell_type": "code",
   "execution_count": 27,
   "metadata": {},
   "outputs": [
    {
     "name": "stdout",
     "output_type": "stream",
     "text": [
      "0x5ff08102deC91DE8431c49595A70352eEfDFc201\n"
     ]
    }
   ],
   "source": [
    "# init()\n",
    "password = 'henneko21'\n",
    "# encrypted = encryptAccount(createNewAccount(password))\n",
    "decrypted = decryptAccount(encrypted, password)\n",
    "print(hexToAddress(decrypted).address)"
   ]
  },
  {
   "cell_type": "code",
   "execution_count": null,
   "metadata": {},
   "outputs": [],
   "source": [
    "rawABI = \n",
    "\"\"\"\n",
    "[\n",
    "        {\n",
    "            \"constant\": false,\n",
    "            \"inputs\": [\n",
    "                {\n",
    "                    \"name\": \"coopaddress\",\n",
    "                    \"type\": \"string\"\n",
    "                },\n",
    "                {\n",
    "                    \"name\": \"director\",\n",
    "                    \"type\": \"address[]\"\n",
    "                },\n",
    "                {\n",
    "                    \"name\": \"coopname\",\n",
    "                    \"type\": \"string\"\n",
    "                },\n",
    "                {\n",
    "                    \"name\": \"coopdesc\",\n",
    "                    \"type\": \"string\"\n",
    "                },\n",
    "                {\n",
    "                    \"name\": \"issueddate\",\n",
    "                    \"type\": \"string\"\n",
    "                }\n",
    "            ],\n",
    "            \"name\": \"createCoop\",\n",
    "            \"outputs\": [],\n",
    "            \"payable\": false,\n",
    "            \"stateMutability\": \"nonpayable\",\n",
    "            \"type\": \"function\"\n",
    "        },\n",
    "        {\n",
    "            \"constant\": false,\n",
    "            \"inputs\": [\n",
    "                {\n",
    "                    \"name\": \"name\",\n",
    "                    \"type\": \"string\"\n",
    "                }\n",
    "            ],\n",
    "            \"name\": \"setMemberName\",\n",
    "            \"outputs\": [],\n",
    "            \"payable\": false,\n",
    "            \"stateMutability\": \"nonpayable\",\n",
    "            \"type\": \"function\"\n",
    "        },\n",
    "        {\n",
    "            \"constant\": true,\n",
    "            \"inputs\": [\n",
    "                {\n",
    "                    \"name\": \"coopid\",\n",
    "                    \"type\": \"uint256\"\n",
    "                }\n",
    "            ],\n",
    "            \"name\": \"getCoopAddress\",\n",
    "            \"outputs\": [\n",
    "                {\n",
    "                    \"name\": \"\",\n",
    "                    \"type\": \"string\"\n",
    "                }\n",
    "            ],\n",
    "            \"payable\": false,\n",
    "            \"stateMutability\": \"view\",\n",
    "            \"type\": \"function\"\n",
    "        },\n",
    "        {\n",
    "            \"constant\": true,\n",
    "            \"inputs\": [\n",
    "                {\n",
    "                    \"name\": \"coopid\",\n",
    "                    \"type\": \"uint256\"\n",
    "                }\n",
    "            ],\n",
    "            \"name\": \"getMembers\",\n",
    "            \"outputs\": [\n",
    "                {\n",
    "                    \"name\": \"\",\n",
    "                    \"type\": \"address[]\"\n",
    "                }\n",
    "            ],\n",
    "            \"payable\": false,\n",
    "            \"stateMutability\": \"view\",\n",
    "            \"type\": \"function\"\n",
    "        },\n",
    "        {\n",
    "            \"constant\": false,\n",
    "            \"inputs\": [\n",
    "                {\n",
    "                    \"name\": \"_members\",\n",
    "                    \"type\": \"address[]\"\n",
    "                },\n",
    "                {\n",
    "                    \"name\": \"_coopid\",\n",
    "                    \"type\": \"uint256\"\n",
    "                }\n",
    "            ],\n",
    "            \"name\": \"setMember\",\n",
    "            \"outputs\": [],\n",
    "            \"payable\": false,\n",
    "            \"stateMutability\": \"nonpayable\",\n",
    "            \"type\": \"function\"\n",
    "        },\n",
    "        {\n",
    "            \"constant\": false,\n",
    "            \"inputs\": [\n",
    "                {\n",
    "                    \"name\": \"directors\",\n",
    "                    \"type\": \"address[]\"\n",
    "                },\n",
    "                {\n",
    "                    \"name\": \"coopid\",\n",
    "                    \"type\": \"uint256\"\n",
    "                }\n",
    "            ],\n",
    "            \"name\": \"setBoardOfDirectors\",\n",
    "            \"outputs\": [],\n",
    "            \"payable\": false,\n",
    "            \"stateMutability\": \"nonpayable\",\n",
    "            \"type\": \"function\"\n",
    "        },\n",
    "        {\n",
    "            \"constant\": true,\n",
    "            \"inputs\": [\n",
    "                {\n",
    "                    \"name\": \"coopid\",\n",
    "                    \"type\": \"uint256\"\n",
    "                }\n",
    "            ],\n",
    "            \"name\": \"getBoardOfDirectors\",\n",
    "            \"outputs\": [\n",
    "                {\n",
    "                    \"name\": \"\",\n",
    "                    \"type\": \"address[]\"\n",
    "                }\n",
    "            ],\n",
    "            \"payable\": false,\n",
    "            \"stateMutability\": \"view\",\n",
    "            \"type\": \"function\"\n",
    "        },\n",
    "        {\n",
    "            \"constant\": true,\n",
    "            \"inputs\": [\n",
    "                {\n",
    "                    \"name\": \"userid\",\n",
    "                    \"type\": \"address\"\n",
    "                }\n",
    "            ],\n",
    "            \"name\": \"isCoopMember\",\n",
    "            \"outputs\": [\n",
    "                {\n",
    "                    \"name\": \"\",\n",
    "                    \"type\": \"bool\"\n",
    "                }\n",
    "            ],\n",
    "            \"payable\": false,\n",
    "            \"stateMutability\": \"view\",\n",
    "            \"type\": \"function\"\n",
    "        }\n",
    "    ]\n",
    "\"\"\"\n",
    "rawContractAddress = '0x51c1b5d568fefc18821c7eac740a03f261972a9d'"
   ]
  }
 ],
 "metadata": {
  "kernelspec": {
   "display_name": "Python 3",
   "language": "python",
   "name": "python3"
  },
  "language_info": {
   "codemirror_mode": {
    "name": "ipython",
    "version": 3
   },
   "file_extension": ".py",
   "mimetype": "text/x-python",
   "name": "python",
   "nbconvert_exporter": "python",
   "pygments_lexer": "ipython3",
   "version": "3.6.6"
  }
 },
 "nbformat": 4,
 "nbformat_minor": 2
}
