{
 "cells": [
  {
   "cell_type": "code",
   "execution_count": 7,
   "metadata": {},
   "outputs": [],
   "source": [
    "import os\n",
    "import random\n",
    "import urllib\n",
    "from web3 import Web3\n",
    "from solc import compile_files, compile_source\n",
    "from web3.contract import ConciseContract"
   ]
  },
  {
   "cell_type": "code",
   "execution_count": 8,
   "metadata": {},
   "outputs": [],
   "source": [
    "oz_ownable = './node_modules/openzeppelin-solidity/contracts/ownership/Ownable.sol'\n",
    "oz_safemath = './node_modules/openzeppelin-solidity/contracts/math/SafeMath.sol'"
   ]
  },
  {
   "cell_type": "code",
   "execution_count": 9,
   "metadata": {},
   "outputs": [],
   "source": [
    "web3 = Web3(Web3.HTTPProvider(\"http://127.0.0.1:8545\", request_kwargs={'timeout': 60}))"
   ]
  },
  {
   "cell_type": "code",
   "execution_count": 30,
   "metadata": {},
   "outputs": [],
   "source": [
    "word_file = './word-list.txt'\n",
    "words = open(word_file).read().splitlines()\n",
    "for x in range(0, 12):\n",
    "    paraphrase = paraphrase +' '+ random.choice(words)"
   ]
  },
  {
   "cell_type": "code",
   "execution_count": 32,
   "metadata": {},
   "outputs": [
    {
     "data": {
      "text/plain": [
       "' boy strong as hang month difference bit another item tough everything enter option'"
      ]
     },
     "execution_count": 32,
     "metadata": {},
     "output_type": "execute_result"
    }
   ],
   "source": [
    "paraphrase"
   ]
  },
  {
   "cell_type": "code",
   "execution_count": 34,
   "metadata": {},
   "outputs": [
    {
     "data": {
      "text/plain": [
       "'0x4579Dd46C920094A1dDe5b9e0917333eA441692C'"
      ]
     },
     "execution_count": 34,
     "metadata": {},
     "output_type": "execute_result"
    }
   ],
   "source": [
    "web3.personal.newAccount(paraphrase)"
   ]
  },
  {
   "cell_type": "code",
   "execution_count": 35,
   "metadata": {},
   "outputs": [
    {
     "data": {
      "text/plain": [
       "['0xeCDB33423EEb354aDE809a17c53D1325626c5219',\n",
       " '0xa8Bd814a4a325d0092416Ac7574fFb5868899B9e',\n",
       " '0xB3e4B53382F53eDe4324ae3c6e3F5f77Df5Eab4a',\n",
       " '0xB089Ae28eE68E11E50CfE15185E9a5f54c223aE1',\n",
       " '0xE8F05d67d6eBD7F0EEf06B8c9dDb7BAF4CF8BF80',\n",
       " '0x9C5d95cfD3FEb230455F86e85fF495Dda387EFAD',\n",
       " '0xC867d6B64115a05c348491c47B03F89dd4f20346',\n",
       " '0x69F0c999E5eBfd29a5044650dCb00125CF869842',\n",
       " '0x4559fFA451694Ca1B184590DC3175D0007cC3eE3',\n",
       " '0x93536A8F9aD1F528f85e1ddAe4bE6E1891fDaE7b',\n",
       " '0xf314c1e25d400F8Ed28f2C1C9283cFa29e2e806D',\n",
       " '0x4579Dd46C920094A1dDe5b9e0917333eA441692C']"
      ]
     },
     "execution_count": 35,
     "metadata": {},
     "output_type": "execute_result"
    }
   ],
   "source": [
    "web3.personal.listAccounts"
   ]
  },
  {
   "cell_type": "code",
   "execution_count": null,
   "metadata": {},
   "outputs": [],
   "source": []
  }
 ],
 "metadata": {
  "kernelspec": {
   "display_name": "Python 3",
   "language": "python",
   "name": "python3"
  },
  "language_info": {
   "codemirror_mode": {
    "name": "ipython",
    "version": 3
   },
   "file_extension": ".py",
   "mimetype": "text/x-python",
   "name": "python",
   "nbconvert_exporter": "python",
   "pygments_lexer": "ipython3",
   "version": "3.6.2"
  }
 },
 "nbformat": 4,
 "nbformat_minor": 2
}
